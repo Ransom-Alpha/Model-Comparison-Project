{
 "cells": [
  {
   "cell_type": "code",
   "execution_count": 12,
   "metadata": {},
   "outputs": [
    {
     "name": "stderr",
     "output_type": "stream",
     "text": [
      "[*********************100%***********************]  6 of 6 completed"
     ]
    },
    {
     "name": "stdout",
     "output_type": "stream",
     "text": [
      "Available columns: Index(['Close', 'High', 'Low', 'Open', 'Volume'], dtype='object', name='Price')\n",
      "Ticker          AAPL       JNJ       JPM      MSFT       XOM       ^GSPC\n",
      "Date                                                                    \n",
      "1990-01-31  0.238996  2.870665  2.810274  0.395284  3.602301  329.079987\n",
      "1990-02-28  0.239766  2.954548  2.796633  0.421993  3.647899  331.890015\n",
      "1990-03-31  0.283841  3.092286  2.615755  0.473273  3.589686  339.940002\n",
      "1990-04-30  0.277671  3.119834  2.615755  0.495709  3.512073  330.799988\n",
      "1990-05-31  0.291701  3.539010  3.063370  0.623909  3.774213  361.230011\n"
     ]
    },
    {
     "name": "stderr",
     "output_type": "stream",
     "text": [
      "\n"
     ]
    }
   ],
   "source": [
    "import yfinance as yf\n",
    "import pandas as pd\n",
    "from datetime import datetime\n",
    "import numpy as np\n",
    "\n",
    "# Define tickers (5 stocks + S&P 500 index)\n",
    "tickers = [\"AAPL\", \"MSFT\", \"JPM\", \"JNJ\", \"XOM\", \"^GSPC\"]\n",
    "\n",
    "# Define date range\n",
    "start_date = \"1990-01-01\"\n",
    "end_date = \"2024-02-16\"\n",
    "\n",
    "# Download daily data\n",
    "data = yf.download(tickers, start=start_date, end=end_date, interval=\"1d\")\n",
    "\n",
    "# Print column names to see what's available\n",
    "print(\"Available columns:\", data.columns.levels[0] if isinstance(data.columns, pd.MultiIndex) else data.columns)\n",
    "\n",
    "# Extract adjusted close prices (using 'Adj Close' or 'Close' depending on what's available)\n",
    "if isinstance(data.columns, pd.MultiIndex):\n",
    "    if 'Adj Close' in data.columns.levels[0]:\n",
    "        adj_close = data.xs('Adj Close', axis=1, level=0)\n",
    "    else:\n",
    "        adj_close = data.xs('Close', axis=1, level=0)\n",
    "else:\n",
    "    if 'Adj Close' in data.columns:\n",
    "        adj_close = data['Adj Close']\n",
    "    else:\n",
    "        adj_close = data['Close']\n",
    "\n",
    "# Resample to get last trading day's closing price of each month\n",
    "monthly_close = adj_close.resample('ME').last()\n",
    "\n",
    "# Save to CSV\n",
    "monthly_close.to_csv(\"monthly_closing_prices_fixed.csv\")\n",
    "\n",
    "print(monthly_close.head())"
   ]
  },
  {
   "cell_type": "markdown",
   "metadata": {},
   "source": [
    "## Price Averaging"
   ]
  },
  {
   "cell_type": "code",
   "execution_count": null,
   "metadata": {},
   "outputs": [],
   "source": [
    "import pandas as pd\n",
    "\n",
    "def compute_ohlc_average(open_prices, high_prices, low_prices, close_prices):\n",
    "    \"\"\"\n",
    "    Compute the average price using Open, High, Low, and Close. Reducing short term random noise in returns\n",
    "\n",
    "    \"\"\"\n",
    "    ohlc_avg = (open_prices + high_prices + low_prices + close_prices) / 4\n",
    "    return ohlc_avg\n"
   ]
  },
  {
   "cell_type": "markdown",
   "metadata": {},
   "source": [
    "## Log Returns\n"
   ]
  },
  {
   "cell_type": "code",
   "execution_count": 13,
   "metadata": {},
   "outputs": [
    {
     "name": "stdout",
     "output_type": "stream",
     "text": [
      "                AAPL       JNJ       JPM      MSFT       XOM     ^GSPC\n",
      "Date                                                                  \n",
      "1990-01-31       NaN       NaN       NaN       NaN       NaN       NaN\n",
      "1990-02-28  0.003216  0.028802 -0.004866  0.065384  0.012579  0.008503\n",
      "1990-03-31  0.168751  0.045565 -0.066864  0.114683 -0.016087  0.023966\n",
      "1990-04-30 -0.021978  0.008869  0.000000  0.046316 -0.021858 -0.027255\n",
      "1990-05-31  0.049291  0.126067  0.157963  0.230015  0.071986  0.088001\n"
     ]
    }
   ],
   "source": [
    "\n",
    "# Load monthly closing prices\n",
    "monthly_close = pd.read_csv(\"monthly_closing_prices_fixed.csv\", index_col=\"Date\", parse_dates=True)\n",
    "\n",
    "# Compute log returns\n",
    "log_returns = np.log(monthly_close / monthly_close.shift(1))\n",
    "\n",
    "# Save to CSV\n",
    "log_returns.to_csv(\"monthly_log_returns.csv\")\n",
    "\n",
    "print(log_returns.head())\n"
   ]
  },
  {
   "cell_type": "markdown",
   "metadata": {},
   "source": [
    "# Factor Calculation Functions"
   ]
  },
  {
   "cell_type": "markdown",
   "metadata": {},
   "source": [
    "## Calculate Rolling Market Beta 5yr"
   ]
  },
  {
   "cell_type": "code",
   "execution_count": 15,
   "metadata": {},
   "outputs": [
    {
     "name": "stdout",
     "output_type": "stream",
     "text": [
      "\n",
      "First few rows of 5-Year Rolling Beta:\n",
      "                AAPL       JNJ       JPM      MSFT       XOM\n",
      "Date                                                        \n",
      "1995-01-31  1.842263  1.170682  1.346224  1.261346  0.573694\n",
      "1995-02-28  1.810642  1.142209  1.337555  1.257423  0.576990\n",
      "1995-03-31  1.732785  1.142203  1.337093  1.260940  0.591881\n",
      "1995-04-30  1.764826  1.173022  1.370849  1.314485  0.591689\n",
      "1995-05-31  1.899498  1.140757  1.349525  1.181346  0.579208\n"
     ]
    }
   ],
   "source": [
    "import numpy as np\n",
    "import pandas as pd\n",
    "\n",
    "# Load monthly log returns\n",
    "log_returns = pd.read_csv(\"monthly_log_returns.csv\", index_col=\"Date\", parse_dates=True)\n",
    "\n",
    "# Define market index (^GSPC) as the benchmark\n",
    "market_returns = log_returns[\"^GSPC\"]\n",
    "\n",
    "# Rolling Beta Calculation (5-Year = 60 months)\n",
    "rolling_betas = pd.DataFrame(index=log_returns.index)\n",
    "\n",
    "window_size = 60  # 5 years \n",
    "\n",
    "for stock in log_returns.columns:\n",
    "    if stock != \"^GSPC\":  # Exclude market index itself\n",
    "        rolling_betas[stock] = (\n",
    "            log_returns[stock]\n",
    "            .rolling(window=window_size)\n",
    "            .cov(market_returns)\n",
    "            / market_returns.rolling(window=window_size).var()\n",
    "        )\n",
    "\n",
    "# Drop NaNs from initial periods\n",
    "rolling_betas.dropna(inplace=True)\n",
    "\n",
    "# Save to CSV\n",
    "rolling_betas.to_csv(\"rolling_beta_5yr.csv\")\n",
    "\n",
    "print(rolling_betas.head())\n"
   ]
  },
  {
   "cell_type": "markdown",
   "metadata": {},
   "source": [
    "## Size Factor (SMB - Small Minus Big)"
   ]
  },
  {
   "cell_type": "code",
   "execution_count": null,
   "metadata": {},
   "outputs": [],
   "source": [
    "def compute_smb(returns, market_caps, size_threshold=50):\n",
    "    \"\"\"\n",
    "    Compute the SMB (Size) factor.\n",
    "\n",
    "    :param returns: DataFrame \n",
    "    :param market_caps: DataFrame \n",
    "    :param size_threshold: Percentile split\n",
    "    :return: Series of SMB factor returns\n",
    "    \"\"\"\n",
    "    # Determine size breakpoints\n",
    "    size_cutoff = market_caps.quantile(size_threshold / 100, axis=1)\n",
    "    \n",
    "    # Define small and big firm portfolios\n",
    "    small_firms = returns[market_caps.le(size_cutoff, axis=0)]\n",
    "    big_firms = returns[market_caps.gt(size_cutoff, axis=0)]\n",
    "\n",
    "    # Compute SMB as the average return difference\n",
    "    smb = small_firms.mean(axis=1) - big_firms.mean(axis=1)\n",
    "\n",
    "    return smb\n"
   ]
  },
  {
   "cell_type": "markdown",
   "metadata": {},
   "source": [
    "## Value Factor (HML - High Minus Low)"
   ]
  },
  {
   "cell_type": "code",
   "execution_count": null,
   "metadata": {},
   "outputs": [],
   "source": [
    "def compute_hml(returns, book_to_market, value_threshold=50):\n",
    "    \"\"\"\n",
    "    Compute the HML (Value) factor.\n",
    "\n",
    "    :param returns: DataFrame \n",
    "    :param book_to_market: DataFrame\n",
    "    :param value_threshold: Percentile split \n",
    "    :return: Series of HML factor returns\n",
    "    \"\"\"\n",
    "    # Determine value breakpoints\n",
    "    value_cutoff = book_to_market.quantile(value_threshold / 100, axis=1)\n",
    "\n",
    "    # Define value (high B/M) and growth (low B/M) portfolios\n",
    "    value_stocks = returns[book_to_market.ge(value_cutoff, axis=0)]\n",
    "    growth_stocks = returns[book_to_market.lt(value_cutoff, axis=0)]\n",
    "\n",
    "    # Compute HML as the average return difference\n",
    "    hml = value_stocks.mean(axis=1) - growth_stocks.mean(axis=1)\n",
    "\n",
    "    return hml\n"
   ]
  },
  {
   "cell_type": "markdown",
   "metadata": {},
   "source": [
    "## Momentum Factor (UMD - Up Minus Down)"
   ]
  },
  {
   "cell_type": "code",
   "execution_count": null,
   "metadata": {},
   "outputs": [],
   "source": [
    "def compute_umd(returns, momentum_window=12, momentum_threshold=30):\n",
    "    \"\"\"\n",
    "    Compute the UMD (Momentum) factor.\n",
    "\n",
    "    :param returns: DataFrame\n",
    "    :param momentum_window: Look-back period for past performance \n",
    "    :param momentum_threshold: Percentile split\n",
    "    :return: Series of UMD factor returns\n",
    "    \"\"\"\n",
    "    # Compute past momentum (excluding last month)\n",
    "    past_returns = returns.shift(1).rolling(momentum_window).sum()\n",
    "\n",
    "    # Determine winner & loser breakpoints\n",
    "    top_cutoff = past_returns.quantile((100 - momentum_threshold) / 100, axis=1)\n",
    "    bottom_cutoff = past_returns.quantile(momentum_threshold / 100, axis=1)\n",
    "\n",
    "    # Define winners (top) and losers (bottom) portfolios\n",
    "    winners = returns[past_returns.ge(top_cutoff, axis=0)]\n",
    "    losers = returns[past_returns.le(bottom_cutoff, axis=0)]\n",
    "\n",
    "    # Compute UMD as the average return difference\n",
    "    umd = winners.mean(axis=1) - losers.mean(axis=1)\n",
    "\n",
    "    return umd\n"
   ]
  },
  {
   "cell_type": "markdown",
   "metadata": {},
   "source": [
    "## Profitability Factor (RMW - Robust Minus Weak)"
   ]
  },
  {
   "cell_type": "code",
   "execution_count": null,
   "metadata": {},
   "outputs": [],
   "source": [
    "def compute_rmw(returns, roe, profitability_threshold=50):\n",
    "    \"\"\"\n",
    "    Compute the RMW (Profitability) factor.\n",
    "\n",
    "    :param returns: DataFrame \n",
    "    :param roe: DataFrame \n",
    "    :param profitability_threshold: Percentile split\n",
    "    :return: Series of RMW factor returns\n",
    "    \"\"\"\n",
    "    # Determine profitability breakpoints\n",
    "    profit_cutoff = roe.quantile(profitability_threshold / 100, axis=1)\n",
    "\n",
    "    # Define robust (high ROE) and weak (low ROE) portfolios\n",
    "    robust = returns[roe.ge(profit_cutoff, axis=0)]\n",
    "    weak = returns[roe.lt(profit_cutoff, axis=0)]\n",
    "\n",
    "    # Compute RMW as the average return difference\n",
    "    rmw = robust.mean(axis=1) - weak.mean(axis=1)\n",
    "\n",
    "    return rmw\n"
   ]
  },
  {
   "cell_type": "markdown",
   "metadata": {},
   "source": [
    "## Investment Factor (CMA - Conservative Minus Aggressive)"
   ]
  },
  {
   "cell_type": "code",
   "execution_count": null,
   "metadata": {},
   "outputs": [],
   "source": [
    "def compute_cma(returns, asset_growth, investment_threshold=50):\n",
    "    \"\"\"\n",
    "    Compute the CMA (Investment) factor.\n",
    "\n",
    "    :param returns: DataFrame\n",
    "    :param asset_growth: DataFrame\n",
    "    :param investment_threshold: Percentile split \n",
    "    :return: Series of CMA factor returns\n",
    "    \"\"\"\n",
    "    # Determine investment breakpoints\n",
    "    investment_cutoff = asset_growth.quantile(investment_threshold / 100, axis=1)\n",
    "\n",
    "    # Define conservative (low investment) and aggressive (high investment) portfolios\n",
    "    conservative = returns[asset_growth.le(investment_cutoff, axis=0)]\n",
    "    aggressive = returns[asset_growth.gt(investment_cutoff, axis=0)]\n",
    "\n",
    "    # Compute CMA as the average return difference\n",
    "    cma = conservative.mean(axis=1) - aggressive.mean(axis=1)\n",
    "\n",
    "    return cma\n"
   ]
  },
  {
   "cell_type": "markdown",
   "metadata": {},
   "source": [
    "## Pastor-Stambaugh Liquidity Factor (LIQ)"
   ]
  },
  {
   "cell_type": "code",
   "execution_count": null,
   "metadata": {},
   "outputs": [],
   "source": [
    "def compute_liq(returns, traded_volume, market_impact, liquidity_threshold=50):\n",
    "    \"\"\"\n",
    "    Compute the LIQ (Liquidity) factor.\n",
    "\n",
    "    :param returns: DataFrame\n",
    "    :param traded_volume: DataFrame \n",
    "    :param market_impact: DataFrame\n",
    "    :param liquidity_threshold: Percentile split \n",
    "    :return: Series of LIQ factor returns\n",
    "    \"\"\"\n",
    "    # Compute liquidity measure: Trading Volume * Market Impact\n",
    "    liquidity_measure = traded_volume * market_impact\n",
    "    \n",
    "    # Determine liquidity breakpoints\n",
    "    liquidity_cutoff = liquidity_measure.quantile(liquidity_threshold / 100, axis=1)\n",
    "\n",
    "    # Define illiquid (low liquidity) and liquid (high liquidity) portfolios\n",
    "    illiquid = returns[liquidity_measure.le(liquidity_cutoff, axis=0)]\n",
    "    liquid = returns[liquidity_measure.gt(liquidity_cutoff, axis=0)]\n",
    "\n",
    "    # Compute LIQ as the average return difference\n",
    "    liq = illiquid.mean(axis=1) - liquid.mean(axis=1)\n",
    "\n",
    "    return liq\n"
   ]
  },
  {
   "cell_type": "markdown",
   "metadata": {},
   "source": [
    "## Return on Equity (ROE) Factor"
   ]
  },
  {
   "cell_type": "code",
   "execution_count": null,
   "metadata": {},
   "outputs": [],
   "source": [
    "def compute_q_roe(returns, roe, roe_threshold=50):\n",
    "    \"\"\"\n",
    "    Compute the ROE (Return on Equity) factor for the Q-Factor Model.\n",
    "\n",
    "    :param returns: DataFrame\n",
    "    :param roe: DataFrame \n",
    "    :param roe_threshold: Percentile split \n",
    "    :return: Series of ROE factor returns\n",
    "    \"\"\"\n",
    "    # Determine ROE breakpoints\n",
    "    roe_cutoff = roe.quantile(roe_threshold / 100, axis=1)\n",
    "\n",
    "    # Define high-ROE and low-ROE portfolios\n",
    "    high_roe = returns[roe.ge(roe_cutoff, axis=0)]\n",
    "    low_roe = returns[roe.lt(roe_cutoff, axis=0)]\n",
    "\n",
    "    # Compute ROE factor as the average return difference\n",
    "    roe_factor = high_roe.mean(axis=1) - low_roe.mean(axis=1)\n",
    "\n",
    "    return roe_factor\n"
   ]
  },
  {
   "cell_type": "markdown",
   "metadata": {},
   "source": [
    "## Rolling Factor Betas"
   ]
  },
  {
   "cell_type": "code",
   "execution_count": null,
   "metadata": {},
   "outputs": [],
   "source": [
    "def rolling_beta(factor_returns, market_returns, window=60):\n",
    "    \"\"\"\n",
    "    Compute rolling beta for asset pricing factors.\n",
    "\n",
    "    :param factor_returns: DataFrame\n",
    "    :param market_returns: Series of market index log returns \n",
    "    :param window: Rolling window size in months \n",
    "    :return: DataFrame of rolling betas for each factor\n",
    "    \"\"\"\n",
    "    rolling_betas = pd.DataFrame(index=factor_returns.index)\n",
    "\n",
    "    for factor in factor_returns.columns:\n",
    "        rolling_betas[factor] = (\n",
    "            factor_returns[factor]\n",
    "            .rolling(window=window)\n",
    "            .cov(market_returns)\n",
    "            / market_returns.rolling(window=window).var()\n",
    "        )\n",
    "\n",
    "    return rolling_betas.dropna()\n"
   ]
  },
  {
   "cell_type": "markdown",
   "metadata": {},
   "source": [
    "# Models"
   ]
  },
  {
   "cell_type": "markdown",
   "metadata": {},
   "source": [
    "## Capital Asset Pricing Model (CAPM)"
   ]
  },
  {
   "cell_type": "code",
   "execution_count": null,
   "metadata": {},
   "outputs": [],
   "source": [
    "def capm(beta, risk_free_rate, market_return):\n",
    "    \"\"\"\n",
    "    Compute expected returns using CAPM.\n",
    "\n",
    "    :param beta:\n",
    "    :param risk_free_rate:\n",
    "    :param market_return: \n",
    "    :return: expected returns\n",
    "    \"\"\"\n",
    "    return risk_free_rate + beta.mul(market_return - risk_free_rate, axis=0)\n"
   ]
  },
  {
   "cell_type": "markdown",
   "metadata": {},
   "source": [
    "## Black CAPM (Zero Risk-Free Rate)"
   ]
  },
  {
   "cell_type": "code",
   "execution_count": null,
   "metadata": {},
   "outputs": [],
   "source": [
    "def black_capm(beta, market_return):\n",
    "    \"\"\"\n",
    "    Compute expected returns using Black CAPM (no risk-free rate).\n",
    "\n",
    "    param beta: DataFrame\n",
    "    param market_return: Series\n",
    "    return: DataFrame of expected returns\n",
    "    \"\"\"\n",
    "    return beta.mul(market_return, axis=0)\n"
   ]
  },
  {
   "cell_type": "markdown",
   "metadata": {},
   "source": [
    "## Fama-French Three-Factor Model (FF3)"
   ]
  },
  {
   "cell_type": "code",
   "execution_count": null,
   "metadata": {},
   "outputs": [],
   "source": [
    "def fama_french_3f(beta_m, beta_smb, beta_hml, risk_free_rate, market_return, smb, hml):\n",
    "    \"\"\"\n",
    "    Compute expected returns using the Fama-French Three-Factor Model.\n",
    "\n",
    "    param beta_m: DataFrame\n",
    "    param beta_smb: DataFrame\n",
    "    param beta_hml: DataFrame\n",
    "    param risk_free_rate: Series\n",
    "    param market_return: Series\n",
    "    param smb: Series\n",
    "    param hml: Series\n",
    "    return: DataFrame of expected returns\n",
    "    \"\"\"\n",
    "    return risk_free_rate + beta_m.mul(market_return - risk_free_rate, axis=0) + beta_smb.mul(smb, axis=0) + beta_hml.mul(hml, axis=0)\n"
   ]
  },
  {
   "cell_type": "markdown",
   "metadata": {},
   "source": [
    "## Carhart Four-Factor Model"
   ]
  },
  {
   "cell_type": "code",
   "execution_count": null,
   "metadata": {},
   "outputs": [],
   "source": [
    "def carhart_4f(beta_m, beta_smb, beta_hml, beta_umd, risk_free_rate, market_return, smb, hml, umd):\n",
    "    \"\"\"\n",
    "    Compute expected returns using the Carhart Four-Factor Model.\n",
    "\n",
    "    param beta_m: DataFrame\n",
    "    param beta_smb: DataFrame\n",
    "    param beta_hml: DataFrame\n",
    "    param beta_umd: DataFrame\n",
    "    param risk_free_rate: Series\n",
    "    param market_return: Series\n",
    "    param smb: Series\n",
    "    param hml: Series\n",
    "    param umd: Series\n",
    "    return: DataFrame of expected returns\n",
    "    \"\"\"\n",
    "    return risk_free_rate + beta_m.mul(market_return - risk_free_rate, axis=0) + beta_smb.mul(smb, axis=0) + beta_hml.mul(hml, axis=0) + beta_umd.mul(umd, axis=0)\n"
   ]
  },
  {
   "cell_type": "markdown",
   "metadata": {},
   "source": [
    "## Fama-French Five-Factor Model (FF5)"
   ]
  },
  {
   "cell_type": "code",
   "execution_count": null,
   "metadata": {},
   "outputs": [],
   "source": [
    "def fama_french_5f(beta_m, beta_smb, beta_hml, beta_rmw, beta_cma, risk_free_rate, market_return, smb, hml, rmw, cma):\n",
    "    \"\"\"\n",
    "    Compute expected returns using the Fama-French Five-Factor Model.\n",
    "\n",
    "    param beta_m: DataFrame\n",
    "    param beta_smb: DataFrame\n",
    "    param beta_hml: DataFrame\n",
    "    param beta_rmw: DataFrame\n",
    "    param beta_cma: DataFrame\n",
    "    param risk_free_rate: Series\n",
    "    param market_return: Series\n",
    "    param smb: Series\n",
    "    param hml: Series\n",
    "    param rmw: Series\n",
    "    param cma: Series\n",
    "    return: DataFrame of expected returns\n",
    "    \"\"\"\n",
    "    return risk_free_rate + beta_m.mul(market_return - risk_free_rate, axis=0) + beta_smb.mul(smb, axis=0) + beta_hml.mul(hml, axis=0) + beta_rmw.mul(rmw, axis=0) + beta_cma.mul(cma, axis=0)\n"
   ]
  },
  {
   "cell_type": "markdown",
   "metadata": {},
   "source": [
    "## Pastor-Stambaugh Liquidity Model"
   ]
  },
  {
   "cell_type": "code",
   "execution_count": null,
   "metadata": {},
   "outputs": [],
   "source": [
    "def pastor_stambaugh(beta_m, beta_smb, beta_hml, beta_liq, risk_free_rate, market_return, smb, hml, liq):\n",
    "    \"\"\"\n",
    "    Compute expected returns using the Pastor-Stambaugh Liquidity Model.\n",
    "\n",
    "    param beta_m: DataFrame\n",
    "    param beta_smb: DataFrame\n",
    "    param beta_hml: DataFrame\n",
    "    param beta_liq: DataFrame\n",
    "    param risk_free_rate: Series\n",
    "    param market_return: Series\n",
    "    param smb: Series\n",
    "    param hml: Series\n",
    "    param liq: Series\n",
    "    return: DataFrame of expected returns\n",
    "    \"\"\"\n",
    "    return risk_free_rate + beta_m.mul(market_return - risk_free_rate, axis=0) + beta_smb.mul(smb, axis=0) + beta_hml.mul(hml, axis=0) + beta_liq.mul(liq, axis=0)\n"
   ]
  },
  {
   "cell_type": "markdown",
   "metadata": {},
   "source": [
    "## Q-Factor Model"
   ]
  },
  {
   "cell_type": "code",
   "execution_count": null,
   "metadata": {},
   "outputs": [],
   "source": [
    "def q_factor(beta_m, beta_me, beta_i, beta_roe, risk_free_rate, market_return, me, i, roe):\n",
    "    \"\"\"\n",
    "    Compute expected returns using the Q-Factor Model.\n",
    "\n",
    "    param beta_m: DataFrame\n",
    "    param beta_me: DataFrame\n",
    "    param beta_i: DataFrame\n",
    "    param beta_roe: DataFrame\n",
    "    param risk_free_rate: Series\n",
    "    param market_return: Series\n",
    "    param me: Series\n",
    "    param i: Series\n",
    "    param roe: Series\n",
    "    return: DataFrame of expected returns\n",
    "    \"\"\"\n",
    "    return risk_free_rate + beta_m.mul(market_return - risk_free_rate, axis=0) + beta_me.mul(me, axis=0) + beta_i.mul(i, axis=0) + beta_roe.mul(roe, axis=0)\n"
   ]
  },
  {
   "cell_type": "markdown",
   "metadata": {},
   "source": [
    "##  Consumption CAPM (CCAPM)"
   ]
  },
  {
   "cell_type": "code",
   "execution_count": null,
   "metadata": {},
   "outputs": [],
   "source": [
    "def ccapm(beta_c, risk_free_rate, consumption_growth):\n",
    "    \"\"\"\n",
    "    Compute expected returns using the Consumption CAPM (CCAPM).\n",
    "\n",
    "    param beta_c: DataFrame\n",
    "    param risk_free_rate: Series\n",
    "    param consumption_growth: Series\n",
    "    return: DataFrame of expected returns\n",
    "    \"\"\"\n",
    "    return risk_free_rate + beta_c.mul(consumption_growth, axis=0)\n"
   ]
  },
  {
   "cell_type": "markdown",
   "metadata": {},
   "source": [
    "##  Intertemporal CAPM (ICAPM)"
   ]
  },
  {
   "cell_type": "code",
   "execution_count": null,
   "metadata": {},
   "outputs": [],
   "source": [
    "def icapm(beta_m, beta_z, risk_free_rate, market_return, state_variables):\n",
    "    \"\"\"\n",
    "    Compute expected returns using the Intertemporal CAPM (ICAPM).\n",
    "\n",
    "    param beta_m: DataFrame\n",
    "    param beta_z: DataFrame\n",
    "    param risk_free_rate: Series\n",
    "    param market_return: Series\n",
    "    param state_variables: DataFrame\n",
    "    return: DataFrame of expected returns\n",
    "    \"\"\"\n",
    "    return risk_free_rate + beta_m.mul(market_return - risk_free_rate, axis=0) + beta_z.mul(state_variables, axis=0).sum(axis=1)\n"
   ]
  },
  {
   "cell_type": "markdown",
   "metadata": {},
   "source": [
    "## Stochastic Discount Factor Model (SDF)\n"
   ]
  },
  {
   "cell_type": "code",
   "execution_count": null,
   "metadata": {},
   "outputs": [],
   "source": [
    "def sdf(expected_m, returns):\n",
    "    \"\"\"\n",
    "    Compute expected returns using the Stochastic Discount Factor Model (SDF).\n",
    "\n",
    "    param expected_m: DataFrame\n",
    "    param returns: DataFrame\n",
    "    return: DataFrame of expected returns\n",
    "    \"\"\"\n",
    "    return expected_m.mul(returns, axis=0)\n"
   ]
  },
  {
   "cell_type": "markdown",
   "metadata": {},
   "source": [
    "## Arbitrage Pricing Theory (APT) Model"
   ]
  },
  {
   "cell_type": "code",
   "execution_count": null,
   "metadata": {},
   "outputs": [],
   "source": [
    "def apt(beta_factors, risk_free_rate, factor_returns):\n",
    "    \"\"\"\n",
    "    Compute expected returns using the Arbitrage Pricing Theory (APT) Model.\n",
    "\n",
    "    param beta_factors: DataFrame\n",
    "    param risk_free_rate: Series\n",
    "    param factor_returns: DataFrame\n",
    "    return: DataFrame of expected returns\n",
    "    \"\"\"\n",
    "    return risk_free_rate + beta_factors.mul(factor_returns, axis=0).sum(axis=1)\n"
   ]
  },
  {
   "cell_type": "markdown",
   "metadata": {},
   "source": []
  }
 ],
 "metadata": {
  "kernelspec": {
   "display_name": "Python 3",
   "language": "python",
   "name": "python3"
  },
  "language_info": {
   "codemirror_mode": {
    "name": "ipython",
    "version": 3
   },
   "file_extension": ".py",
   "mimetype": "text/x-python",
   "name": "python",
   "nbconvert_exporter": "python",
   "pygments_lexer": "ipython3",
   "version": "3.11.9"
  }
 },
 "nbformat": 4,
 "nbformat_minor": 2
}
