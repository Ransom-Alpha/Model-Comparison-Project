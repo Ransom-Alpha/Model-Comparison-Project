{
 "cells": [
  {
   "cell_type": "code",
   "execution_count": 51,
   "metadata": {},
   "outputs": [
    {
     "name": "stdout",
     "output_type": "stream",
     "text": [
      "<class 'pandas.core.frame.DataFrame'>\n",
      "RangeIndex: 446870 entries, 0 to 446869\n",
      "Data columns (total 12 columns):\n",
      " #   Column          Non-Null Count   Dtype    \n",
      "---  ------          --------------   -----    \n",
      " 0   date            446870 non-null  period[M]\n",
      " 1   open            446870 non-null  float64  \n",
      " 2   high            446870 non-null  float64  \n",
      " 3   low             446870 non-null  float64  \n",
      " 4   close           446870 non-null  float64  \n",
      " 5   adjusted_close  446870 non-null  float64  \n",
      " 6   return          446870 non-null  float64  \n",
      " 7   log_return      446870 non-null  float64  \n",
      " 8   volume          446870 non-null  int64    \n",
      " 9   dividend        446870 non-null  float64  \n",
      " 10  ticker          446870 non-null  object   \n",
      " 11  sector          446870 non-null  object   \n",
      "dtypes: float64(8), int64(1), object(2), period[M](1)\n",
      "memory usage: 40.9+ MB\n",
      "      date   open    high    low   close  adjusted_close     return  \\\n",
      "0  2004-11   0.04    1.60   0.04    0.75          0.5907  17.752381   \n",
      "1  2021-01  19.00  483.00  17.08  325.00         81.2500  16.250531   \n",
      "2  2009-05   1.01   14.79   1.00   14.64         14.6400  13.495050   \n",
      "3  2014-06   2.71   38.50   2.71   35.35         35.3500  12.044280   \n",
      "4  2020-07   2.24   60.00   2.00   21.85         21.8500   8.798206   \n",
      "\n",
      "   log_return      volume  dividend ticker        sector  \n",
      "0    2.931321     3148400       0.0     WT    Financials  \n",
      "1    2.847843  1237565707       0.0    GME  C_Discretion  \n",
      "2    2.673807    54293500       0.0   VNDA   Health_Care  \n",
      "3    2.568350       13250       0.0   SXCL        Energy  \n",
      "4    2.282199   696367736       0.0   KODK             0   None\n"
     ]
    }
   ],
   "source": [
    "import pandas as pd\n",
    "import numpy as np\n",
    "\n",
    "# Load stock data\n",
    "raw = pd.read_csv(r'C:\\Users\\Jrans\\Desktop\\Model Comparison Project\\Data\\FinalSet.csv')\n",
    "\n",
    "# Change data type\n",
    "raw['date'] = pd.to_datetime(raw['date'], errors='coerce')\n",
    "\n",
    "# Convert 'date' to period (YYYY-MM format)\n",
    "raw['date'] = raw['date'].dt.to_period('M')\n",
    "\n",
    "print(raw.head(),raw.info())"
   ]
  },
  {
   "cell_type": "code",
   "execution_count": 52,
   "metadata": {},
   "outputs": [
    {
     "name": "stdout",
     "output_type": "stream",
     "text": [
      "Final shape: (443995, 12)\n"
     ]
    }
   ],
   "source": [
    "# Drop rows where 'sector' is \"0\"\n",
    "raw = raw[raw[\"sector\"] != \"0\"]\n",
    "\n",
    "print(f\"Final shape: {raw.shape}\")"
   ]
  },
  {
   "cell_type": "code",
   "execution_count": 53,
   "metadata": {},
   "outputs": [
    {
     "name": "stdout",
     "output_type": "stream",
     "text": [
      "      date   open    high    low   close  adjusted_close     return  \\\n",
      "0  2004-11   0.04    1.60   0.04    0.75          0.5907  17.752381   \n",
      "1  2021-01  19.00  483.00  17.08  325.00         81.2500  16.250531   \n",
      "2  2009-05   1.01   14.79   1.00   14.64         14.6400  13.495050   \n",
      "3  2014-06   2.71   38.50   2.71   35.35         35.3500  12.044280   \n",
      "6  2003-06   4.18   25.91   3.59   22.32         22.1245   4.443887   \n",
      "\n",
      "   log_return      volume  dividend ticker        sector  \n",
      "0    2.931321     3148400       0.0     WT    Financials  \n",
      "1    2.847843  1237565707       0.0    GME  C_Discretion  \n",
      "2    2.673807    54293500       0.0   VNDA   Health_Care  \n",
      "3    2.568350       13250       0.0   SXCL        Energy  \n",
      "6    1.694493    62025400       0.0   BKNG  C_Discretion  \n",
      "Filtered data saved to raw0.csv\n"
     ]
    }
   ],
   "source": [
    "# Define the cutoff date\n",
    "cutoff_date = pd.Period(\"2000-11\", freq=\"M\")\n",
    "\n",
    "# Filter the DataFrame to keep only rows from November 2000 onwards\n",
    "raw0 = raw[raw[\"date\"] >= cutoff_date]\n",
    "\n",
    "# Display the first few rows\n",
    "print(raw0.head())\n",
    "\n",
    "# Optional: Save the filtered data to a CSV file\n",
    "raw0.to_csv(\"raw0.csv\", index=False)\n",
    "print(\"Filtered data saved to raw0.csv\")"
   ]
  },
  {
   "cell_type": "code",
   "execution_count": 54,
   "metadata": {},
   "outputs": [
    {
     "name": "stdout",
     "output_type": "stream",
     "text": [
      "sector\n",
      "C_Discretion    263\n",
      "C_Staples        99\n",
      "Com_Services     75\n",
      "Energy          105\n",
      "Financials      288\n",
      "Health_Care     239\n",
      "Index             1\n",
      "Industrials     290\n",
      "Info_Tech       254\n",
      "Materials       113\n",
      "Real_Estate     128\n",
      "Utilities        67\n",
      "Name: ticker, dtype: int64\n"
     ]
    }
   ],
   "source": [
    "# Count unique tickers per sector\n",
    "unique_ticker_counts = raw.groupby('sector')['ticker'].nunique()\n",
    "\n",
    "# Display result\n",
    "print(unique_ticker_counts)"
   ]
  },
  {
   "cell_type": "code",
   "execution_count": 55,
   "metadata": {},
   "outputs": [
    {
     "data": {
      "text/plain": [
       "sector\n",
       "C_Discretion    19.37\n",
       "C_Staples       20.56\n",
       "Com_Services    16.01\n",
       "Energy          17.00\n",
       "Financials      19.76\n",
       "Health_Care     18.16\n",
       "Index           24.17\n",
       "Industrials     20.32\n",
       "Info_Tech       18.47\n",
       "Materials       19.29\n",
       "Real_Estate     18.91\n",
       "Utilities       22.26\n",
       "Name: date, dtype: float64"
      ]
     },
     "execution_count": 55,
     "metadata": {},
     "output_type": "execute_result"
    }
   ],
   "source": [
    "# Calculate the timespan per Ticker (in months)\n",
    "ticker_timespan = raw.groupby(['sector', 'ticker'])['date'].agg(lambda x: (x.max() - x.min()).n)\n",
    "\n",
    "# Average timespan per sector in years\n",
    "avg_timespan = ticker_timespan.groupby('sector').mean() / 12\n",
    "\n",
    "# Round to 2 decimal places\n",
    "avg_timespan = avg_timespan.round(2)\n",
    "\n",
    "# Display result\n",
    "avg_timespan\n"
   ]
  },
  {
   "cell_type": "code",
   "execution_count": 56,
   "metadata": {},
   "outputs": [
    {
     "data": {
      "text/html": [
       "<div>\n",
       "<style scoped>\n",
       "    .dataframe tbody tr th:only-of-type {\n",
       "        vertical-align: middle;\n",
       "    }\n",
       "\n",
       "    .dataframe tbody tr th {\n",
       "        vertical-align: top;\n",
       "    }\n",
       "\n",
       "    .dataframe thead th {\n",
       "        text-align: right;\n",
       "    }\n",
       "</style>\n",
       "<table border=\"1\" class=\"dataframe\">\n",
       "  <thead>\n",
       "    <tr style=\"text-align: right;\">\n",
       "      <th></th>\n",
       "      <th>date</th>\n",
       "      <th>rate</th>\n",
       "      <th>ticker</th>\n",
       "    </tr>\n",
       "  </thead>\n",
       "  <tbody>\n",
       "    <tr>\n",
       "      <th>0</th>\n",
       "      <td>1/31/1995</td>\n",
       "      <td>0.059015</td>\n",
       "      <td>3M_treasury</td>\n",
       "    </tr>\n",
       "    <tr>\n",
       "      <th>1</th>\n",
       "      <td>2/28/1995</td>\n",
       "      <td>0.059395</td>\n",
       "      <td>3M_treasury</td>\n",
       "    </tr>\n",
       "    <tr>\n",
       "      <th>2</th>\n",
       "      <td>3/31/1995</td>\n",
       "      <td>0.059104</td>\n",
       "      <td>3M_treasury</td>\n",
       "    </tr>\n",
       "    <tr>\n",
       "      <th>3</th>\n",
       "      <td>4/30/1995</td>\n",
       "      <td>0.058379</td>\n",
       "      <td>3M_treasury</td>\n",
       "    </tr>\n",
       "    <tr>\n",
       "      <th>4</th>\n",
       "      <td>5/31/1995</td>\n",
       "      <td>0.058477</td>\n",
       "      <td>3M_treasury</td>\n",
       "    </tr>\n",
       "  </tbody>\n",
       "</table>\n",
       "</div>"
      ],
      "text/plain": [
       "        date      rate       ticker\n",
       "0  1/31/1995  0.059015  3M_treasury\n",
       "1  2/28/1995  0.059395  3M_treasury\n",
       "2  3/31/1995  0.059104  3M_treasury\n",
       "3  4/30/1995  0.058379  3M_treasury\n",
       "4  5/31/1995  0.058477  3M_treasury"
      ]
     },
     "execution_count": 56,
     "metadata": {},
     "output_type": "execute_result"
    }
   ],
   "source": [
    "# Load risk free rate\n",
    "rfr = pd.read_csv(r\"C:\\Users\\Jrans\\Desktop\\Model Comparison Project\\Data\\3month_treasury_rate.csv\")\n",
    "rfr.head()"
   ]
  },
  {
   "cell_type": "code",
   "execution_count": 57,
   "metadata": {},
   "outputs": [
    {
     "name": "stdout",
     "output_type": "stream",
     "text": [
      "Index(['date', 'open', 'high', 'low', 'close', 'adjusted_close', 'return',\n",
      "       'log_return', 'volume', 'dividend', 'ticker', 'sector'],\n",
      "      dtype='object')\n"
     ]
    }
   ],
   "source": [
    "print(raw0.columns)\n"
   ]
  },
  {
   "cell_type": "code",
   "execution_count": null,
   "metadata": {},
   "outputs": [],
   "source": []
  }
 ],
 "metadata": {
  "kernelspec": {
   "display_name": "Python 3",
   "language": "python",
   "name": "python3"
  },
  "language_info": {
   "codemirror_mode": {
    "name": "ipython",
    "version": 3
   },
   "file_extension": ".py",
   "mimetype": "text/x-python",
   "name": "python",
   "nbconvert_exporter": "python",
   "pygments_lexer": "ipython3",
   "version": "3.11.9"
  }
 },
 "nbformat": 4,
 "nbformat_minor": 2
}
